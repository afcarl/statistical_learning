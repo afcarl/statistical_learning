{
 "metadata": {
  "name": "Linear Regression"
 }, 
 "nbformat": 2, 
 "worksheets": [
  {
   "cells": [
    {
     "cell_type": "markdown", 
     "source": [
      "#Linear Methods for Regression#", 
      "", 
      "##Based on chapter 3 of \"The elements of statistical learning\" ##", 
      "", 
      "Our model of the world is that: $f(x) = \\beta_0 + \\sum_{j=1}^{p}{x_j \\beta_j} + \\epsilon$ with $\\epsilon \\sim \\mathcal{N}(0, \\sigma)$"
     ]
    }, 
    {
     "cell_type": "code", 
     "collapsed": true, 
     "input": [
      "def f(x, beta, sigma=0.1):", 
      "    \"\"\" ", 
      "    The linear model", 
      "    \"\"\" ", 
      "    epsilon = sigma * np.random.randn()", 
      "    return beta[0] + np.sum(beta[0:] * x) + epsilon"
     ], 
     "language": "python", 
     "outputs": [], 
     "prompt_number": 472
    }, 
    {
     "cell_type": "markdown", 
     "source": [
      "Let's set up the problem with 10 input variables, repeated 20 times: "
     ]
    }, 
    {
     "cell_type": "code", 
     "collapsed": true, 
     "input": [
      "p = 10 # Number of variables ", 
      "N = 50 # Number of repetitions ", 
      "", 
      "# Random parameters to be estimated: ", 
      "beta = np.random.rand(p)"
     ], 
     "language": "python", 
     "outputs": [], 
     "prompt_number": 473
    }, 
    {
     "cell_type": "markdown", 
     "source": [
      "The solution which minimizes the residual sum of squares  $RSS =  \\sum_{i=1}^{N}(y_i - f(x_i))^2$, is given by the following. ", 
      "Let $\\bf{y}$ be the output of the model and $\\bf{X}$ denote the input (also known as the \"design matrix\"):"
     ]
    }, 
    {
     "cell_type": "code", 
     "collapsed": true, 
     "input": [
      "X = np.random.randn(N, p)"
     ], 
     "language": "python", 
     "outputs": [], 
     "prompt_number": 474
    }, 
    {
     "cell_type": "code", 
     "collapsed": true, 
     "input": [
      "y =np.matrix(np.array([f(X[i], beta, 0.1) for i  in xrange(N)])).T"
     ], 
     "language": "python", 
     "outputs": [], 
     "prompt_number": 475
    }, 
    {
     "cell_type": "markdown", 
     "source": [
      "$RSS$ depends on $\\beta$ and can be rewritten as: ", 
      "", 
      "$ RSS(\\beta) = (\\bf{y} - X\\beta)^T (\\bf{y} - X\\beta) $ ", 
      "", 
      "Differentiating with regard to $\\beta$, we obtain: ", 
      "", 
      "$ \\frac{\\partial RSS}{\\partial\\beta}  = -2 \\bf{X}^T (\\bf{y} - \\bf{X}\\beta)$", 
      "", 
      "$ \\frac{\\partial ^2 RSS}{\\partial\\beta \\partial \\beta ^T}  = 2 \\bf{X}\\bf{X}^T $ ", 
      "", 
      "Setting the first derivative to 0: ", 
      "", 
      "$\\bf{X}^T (y-\\bf{X}\\beta) = 0$", 
      "", 
      "Such that, for $\\bf{X}$ which has full column rank: ", 
      "", 
      "$ \\Rightarrow  \\hat{\\beta} = (\\bf{X}^T \\bf{X})^{-1}\\bf{X}^T\\bf{y}$ ", 
      "", 
      "Is a unique solution. "
     ]
    }, 
    {
     "cell_type": "code", 
     "collapsed": true, 
     "input": [
      "def olsmatrix(X):", 
      "    \"\"\"", 
      "    The matrix which solves the OLS regression problem for full-rank X", 
      "    \"\"\"", 
      "    return (np.matrix(X).T * np.matrix(X)).getI() * np.matrix(X.T)", 
      "    ", 
      "beta_hat = olsmatrix(X) * y"
     ], 
     "language": "python", 
     "outputs": [], 
     "prompt_number": 476
    }, 
    {
     "cell_type": "markdown", 
     "source": [
      "We display the estimate, $\\hat{\\beta}$ against the actual parameters, $\\beta$: "
     ]
    }, 
    {
     "cell_type": "code", 
     "collapsed": false, 
     "input": [
      "plot(beta, beta_hat, 'o')", 
      "plt.xlabel('Real parameter value')", 
      "plt.ylabel('Estimate parameter value')"
     ], 
     "language": "python", 
     "outputs": [
      {
       "output_type": "pyout", 
       "prompt_number": 477, 
       "text": [
        "&lt;matplotlib.text.Text at 0xc006470&gt;"
       ]
      }, 
      {
       "output_type": "display_data", 
       "png": "[encoded data removed]"
      }
     ], 
     "prompt_number": 477
    }, 
    {
     "cell_type": "markdown", 
     "source": [
      "The so called \"hat matrix\", or $ H $ is the matrix which defines the transformation from $\\bf{X}$ to the estimate of $y$, $\\hat{y}$, so it's the matrix that \"puts the hat\" on $y$"
     ]
    }, 
    {
     "cell_type": "code", 
     "collapsed": true, 
     "input": [
      "H = np.matrix(X) * (np.matrix(X.T) * np.matrix(X)).getI() * np.matrix(X.T)", 
      "y_hat = H * y "
     ], 
     "language": "python", 
     "outputs": [], 
     "prompt_number": 478
    }, 
    {
     "cell_type": "code", 
     "collapsed": false, 
     "input": [
      "plot(y, y_hat, 'o')", 
      "plt.xlabel('The original output') ", 
      "plt.ylabel('Linear estimate of the output')"
     ], 
     "language": "python", 
     "outputs": [
      {
       "output_type": "pyout", 
       "prompt_number": 479, 
       "text": [
        "&lt;matplotlib.text.Text at 0xc0921f0&gt;"
       ]
      }, 
      {
       "output_type": "display_data", 
       "png": "[encoded data removed]"
      }
     ], 
     "prompt_number": 479
    }, 
    {
     "cell_type": "markdown", 
     "source": [
      "The variance of the \\hat{beta}, is derived from the variance/covariance matrix:", 
      "", 
      "$Var(\\hat{\\beta}) = (\\bf{X}^T \\bf{X})^{-1} \\sigma^2$", 
      "", 
      "And can be estimated as follows: ", 
      "", 
      "$\\hat{\\sigma} = \\frac{1}{N - p - 1}\\sum_{i=1}^{N}(y_i-\\hat{y}_i) ^ 2$"
     ]
    }, 
    {
     "cell_type": "code", 
     "collapsed": true, 
     "input": [
      "sigma_hat = 1.0/(N-p-1) * np.sum(np.power(y-y_hat, 2))"
     ], 
     "language": "python", 
     "outputs": [], 
     "prompt_number": 480
    }, 
    {
     "cell_type": "code", 
     "collapsed": false, 
     "input": [
      "sigma_hat"
     ], 
     "language": "python", 
     "outputs": [
      {
       "output_type": "pyout", 
       "prompt_number": 481, 
       "text": [
        "0.052808935242248299"
       ]
      }
     ], 
     "prompt_number": 481
    }, 
    {
     "cell_type": "markdown", 
     "source": [
      "And $\\hat{\\beta}$ is distributed as a multivariate normal distribution: ", 
      "", 
      "$\\hat{\\beta} \\sim \\mathcal{N}(\\beta, (\\bf{X}^T \\bf{X})^{-1} \\sigma^2)$"
     ]
    }, 
    {
     "cell_type": "code", 
     "collapsed": true, 
     "input": [
      "covar_matrix = (np.matrix(X).T * np.matrix(X)).getI()"
     ], 
     "language": "python", 
     "outputs": [], 
     "prompt_number": 482
    }, 
    {
     "cell_type": "code", 
     "collapsed": false, 
     "input": [
      "matshow(covar_matrix)"
     ], 
     "language": "python", 
     "outputs": [
      {
       "output_type": "pyout", 
       "prompt_number": 483, 
       "text": [
        "&lt;matplotlib.image.AxesImage at 0xc1c4c30&gt;"
       ]
      }, 
      {
       "output_type": "display_data", 
       "png": "[encoded data removed]"
      }
     ], 
     "prompt_number": 483
    }, 
    {
     "cell_type": "markdown", 
     "source": [
      "To test the hypothesis that a particular coefficient: $\\beta_j = 0$, we can calculate a Z score as follows: ", 
      "", 
      "$z_j = \\frac{\\beta_j}{\\hat{\\sigma}\\sqrt{v_j}}$, ", 
      "", 
      "Where $v_j$ is the $jth$ diagonal element in the variance covariance matrix"
     ]
    }, 
    {
     "cell_type": "code", 
     "collapsed": true, 
     "input": [
      "z = []", 
      "for j in range(len(beta)): ", 
      "    z.append(beta_hat[j]/(sigma_hat * np.sqrt(covar_matrix[j,j])))", 
      "z = np.array(z).squeeze()"
     ], 
     "language": "python", 
     "outputs": [], 
     "prompt_number": 484
    }, 
    {
     "cell_type": "markdown", 
     "source": [
      "## Ridge regression ", 
      "", 
      "This form of regression regularize the regression by optimizing a variant of RSS: ", 
      "", 
      "$\\hat{\\beta}^{ridge} = argmin_{\\beta} [(sum_{i=1}^{N} (y_i - \\beta_0 - \\sum_{j=1}^{p} x_{ij}\\beta_j)^2 + \\lambda \\sum_{j=1}^{p}{\\beta^2}]$", 
      "", 
      "Where $\\lambda \\geq 0$ is a complexity parameter that controls the amount of \"shrinkage\" of the model, by controlling the sum of squares of the parameter values. ", 
      "", 
      "Written in matrix form, this comes out to: ", 
      "", 
      "$\\hat{\\beta}^{ridge} = (\\bf{X}^T\\bf{X} + \\lambda \\bf{I})^{-1} \\bf{X}^T y$"
     ]
    }, 
    {
     "cell_type": "code", 
     "collapsed": true, 
     "input": [
      "def ridge_regression_matrix(X, l):", 
      "    return (np.matrix(X).T * np.matrix(X) + l * np.eye(X.shape[-1])).getI() * np.matrix(X.T)", 
      "    "
     ], 
     "language": "python", 
     "outputs": [], 
     "prompt_number": 485
    }, 
    {
     "cell_type": "code", 
     "collapsed": true, 
     "input": [
      "beta_ridge = ridge_regression_matrix(X,1)* y "
     ], 
     "language": "python", 
     "outputs": [], 
     "prompt_number": 486
    }, 
    {
     "cell_type": "code", 
     "collapsed": false, 
     "input": [
      "plot(beta, beta_ridge, 'o')"
     ], 
     "language": "python", 
     "outputs": [
      {
       "output_type": "pyout", 
       "prompt_number": 487, 
       "text": [
        "[&lt;matplotlib.lines.Line2D at 0xc263710&gt;]"
       ]
      }, 
      {
       "output_type": "display_data", 
       "png": "[encoded data removed]"
      }
     ], 
     "prompt_number": 487
    }, 
    {
     "cell_type": "markdown", 
     "source": [
      "##SVD", 
      "", 
      "The singular value decomposition of the matrix $\\bf{X}$ is defined as: ", 
      "", 
      "$\\bf{X} = \\bf{UDV}^T$ ", 
      "", 
      "Where $\\bf{U}$ and $\\bf{V}$ are $N x p$ and $p x p$:  "
     ]
    }, 
    {
     "cell_type": "code", 
     "collapsed": true, 
     "input": [
      "import scipy.linalg as la"
     ], 
     "language": "python", 
     "outputs": [], 
     "prompt_number": 488
    }, 
    {
     "cell_type": "code", 
     "collapsed": true, 
     "input": [
      "U,D,V = la.svd(X, full_matrices = False) # We call full_matrices = False, to conform with the conventions in the text"
     ], 
     "language": "python", 
     "outputs": [], 
     "prompt_number": 489
    }, 
    {
     "cell_type": "code", 
     "collapsed": false, 
     "input": [
      "print \"The shape of U is %s and of V is: %s\"%(U.shape, V.shape) # Just making sure"
     ], 
     "language": "python", 
     "outputs": [
      {
       "output_type": "stream", 
       "stream": "stdout", 
       "text": [
        "The shape of U is (50, 10) and of V is: (10, 10)"
       ]
      }
     ], 
     "prompt_number": 490
    }, 
    {
     "cell_type": "code", 
     "collapsed": true, 
     "input": [
      "D = np.diag(D)"
     ], 
     "language": "python", 
     "outputs": [], 
     "prompt_number": 505
    }, 
    {
     "cell_type": "code", 
     "collapsed": false, 
     "input": [
      "matshow(D)"
     ], 
     "language": "python", 
     "outputs": [
      {
       "output_type": "pyout", 
       "prompt_number": 506, 
       "text": [
        "&lt;matplotlib.image.AxesImage at 0xc6d4cf0&gt;"
       ]
      }, 
      {
       "output_type": "display_data", 
       "png": "[encoded data removed]"
      }
     ], 
     "prompt_number": 506
    }, 
    {
     "cell_type": "markdown", 
     "source": [
      "For the OLS solution: ", 
      "", 
      "$X\\hat{\\beta} = \\bf{X}(\\bf{X}^T\\bf{X})^{-1} \\bf{X}^T y = \\bf{UU}^T y $"
     ]
    }, 
    {
     "cell_type": "code", 
     "collapsed": true, 
     "input": [
      "x_beta_hat = np.matrix(U) * np.matrix(U).T * y"
     ], 
     "language": "python", 
     "outputs": [], 
     "prompt_number": 504
    }, 
    {
     "cell_type": "markdown", 
     "source": [
      "Where $\\bf{U}^T y$ are the coordinates of $y$ with respect to the orthonormal basis $\\bf{U}$"
     ]
    }, 
    {
     "cell_type": "code", 
     "collapsed": true, 
     "input": [
      "y_coords_in_U = np.matrix(U).T * y"
     ], 
     "language": "python", 
     "outputs": [], 
     "prompt_number": 513
    }, 
    {
     "cell_type": "code", 
     "collapsed": false, 
     "input": [
      "matshow(np.matrix(U).T * np.matrix(U)) # Shows that U is an orthonormal basis set"
     ], 
     "language": "python", 
     "outputs": [
      {
       "output_type": "pyout", 
       "prompt_number": 512, 
       "text": [
        "&lt;matplotlib.image.AxesImage at 0xcabe630&gt;"
       ]
      }, 
      {
       "output_type": "display_data", 
       "png": "[encoded data removed]"
      }
     ], 
     "prompt_number": 512
    }, 
    {
     "cell_type": "markdown", 
     "source": [
      "Another way to rewrite the ridge regression, using the results of the SVD: ", 
      "", 
      "$\\bf{X} \\hat{\\beta} ^ {ridge} = U D (D^2 + \\lambda I)^{-1} D U^T y $ "
     ]
    }, 
    {
     "cell_type": "code", 
     "collapsed": false, 
     "input": [
      "x_b_ridge_svd = np.matrix(U) * np.matrix(D) (np.matrix(D) * np.matrix(D) + lamb * np.matrix(np.eye("
     ], 
     "language": "python", 
     "outputs": [
      {
       "ename": "SyntaxError", 
       "evalue": "unexpected EOF while parsing (<ipython-input-514-cb76048e0860>, line 1)", 
       "output_type": "pyerr", 
       "traceback": [
        "<span class=\"ansicyan\">  File </span><span class=\"ansigreen\">&quot;&lt;ipython-input-514-cb76048e0860&gt;&quot;</span><span class=\"ansicyan\">, line </span><span class=\"ansigreen\">1</span>\n<span class=\"ansired\">    x_b_ridge_svd = np.matrix(U) * np.matrix(D) (np.matrix(D) * np.matrix(D) + lamb * np.matrix(np.eye(</span>\n                                                                                                       ^\n<span class=\"ansired\">SyntaxError</span><span class=\"ansired\">:</span> unexpected EOF while parsing\n"
       ]
      }
     ], 
     "prompt_number": 514
    }, 
    {
     "cell_type": "code", 
     "collapsed": false, 
     "input": [
      "np.matrix(D) * np.matrix(D)"
     ], 
     "language": "python", 
     "outputs": [
      {
       "output_type": "pyout", 
       "prompt_number": 515, 
       "text": [
        "matrix([[ 79.3704914 ,   0.        ,   0.        ,   0.        ,", 
        "           0.        ,   0.        ,   0.        ,   0.        ,", 
        "           0.        ,   0.        ],", 
        "        [  0.        ,  75.80428102,   0.        ,   0.        ,", 
        "           0.        ,   0.        ,   0.        ,   0.        ,", 
        "           0.        ,   0.        ],", 
        "        [  0.        ,   0.        ,  66.296782  ,   0.        ,", 
        "           0.        ,   0.        ,   0.        ,   0.        ,", 
        "           0.        ,   0.        ],", 
        "        [  0.        ,   0.        ,   0.        ,  57.40366393,", 
        "           0.        ,   0.        ,   0.        ,   0.        ,", 
        "           0.        ,   0.        ],", 
        "        [  0.        ,   0.        ,   0.        ,   0.        ,", 
        "          49.53781304,   0.        ,   0.        ,   0.        ,", 
        "           0.        ,   0.        ],", 
        "        [  0.        ,   0.        ,   0.        ,   0.        ,", 
        "           0.        ,  47.80940834,   0.        ,   0.        ,", 
        "           0.        ,   0.        ],", 
        "        [  0.        ,   0.        ,   0.        ,   0.        ,", 
        "           0.        ,   0.        ,  32.18906527,   0.        ,", 
        "           0.        ,   0.        ],", 
        "        [  0.        ,   0.        ,   0.        ,   0.        ,", 
        "           0.        ,   0.        ,   0.        ,  29.63095984,", 
        "           0.        ,   0.        ],", 
        "        [  0.        ,   0.        ,   0.        ,   0.        ,", 
        "           0.        ,   0.        ,   0.        ,   0.        ,", 
        "          20.59966343,   0.        ],", 
        "        [  0.        ,   0.        ,   0.        ,   0.        ,", 
        "           0.        ,   0.        ,   0.        ,   0.        ,", 
        "           0.        ,  18.56596641]])"
       ]
      }
     ], 
     "prompt_number": 515
    }, 
    {
     "cell_type": "code", 
     "collapsed": true, 
     "input": [], 
     "language": "python", 
     "outputs": [], 
     "prompt_number": "&nbsp;"
    }
   ]
  }
 ]
}