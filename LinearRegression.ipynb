{
 "metadata": {
  "name": "LinearRegression"
 }, 
 "nbformat": 2, 
 "worksheets": [
  {
   "cells": [
    {
     "cell_type": "markdown", 
     "source": [
      "#Linear Methods for Regression#", 
      "", 
      "##Based on chapter 3 of \"The elements of statistical learning\" ##", 
      "", 
      "First, let's import scipy.linalg, which will be used later on: "
     ]
    }, 
    {
     "cell_type": "code", 
     "collapsed": true, 
     "input": [
      "import scipy.linalg as la"
     ], 
     "language": "python", 
     "outputs": [], 
     "prompt_number": 137
    }, 
    {
     "cell_type": "markdown", 
     "source": [
      "Our model of the world is that: $f(x) = \\beta_0 + \\sum_{j=1}^{p}{x_j \\beta_j} + \\epsilon $ with $\\epsilon \\sim \\mathcal{N}(0, \\sigma)$"
     ]
    }, 
    {
     "cell_type": "code", 
     "collapsed": true, 
     "input": [
      "def f(x, beta):", 
      "    \"\"\" ", 
      "    The linear model", 
      "    \"\"\" ", 
      "    return beta[0] + np.sum(beta[0:] * x) + epsilon"
     ], 
     "language": "python", 
     "outputs": [], 
     "prompt_number": 138
    }, 
    {
     "cell_type": "markdown", 
     "source": [
      "Let's set up the problem with 10 input variables, repeated 20 times: "
     ]
    }, 
    {
     "cell_type": "code", 
     "collapsed": true, 
     "input": [
      "p = 10 # Number of variables ", 
      "N = 50 # Number of repetitions ", 
      "", 
      "# Random parameters to be estimated: ", 
      "beta = np.random.rand(p)", 
      "# Noise ", 
      "sigma = 1"
     ], 
     "language": "python", 
     "outputs": [], 
     "prompt_number": 139
    }, 
    {
     "cell_type": "markdown", 
     "source": [
      "We derive the outputs from a random input. This random input is our \"design matrix\" "
     ]
    }, 
    {
     "cell_type": "code", 
     "collapsed": true, 
     "input": [
      "X = np.random.randn(N, p)"
     ], 
     "language": "python", 
     "outputs": [], 
     "prompt_number": 140
    }, 
    {
     "cell_type": "markdown", 
     "source": [
      "Let's calculate the value of f_x and of the noise-corrupted y: "
     ]
    }, 
    {
     "cell_type": "code", 
     "collapsed": false, 
     "input": [
      "y = []", 
      "f_x = [] ", 
      "for i in xrange(N):", 
      "    f_x.append(np.sum(f(X[i], beta)))", 
      "    epsilon = sigma * np.random.randn(X[i].shape[-1])", 
      "    y.append(np.sum(f(X[i],beta) + epsilon))", 
      "", 
      "y = np.array(y)", 
      "f_x = np.array(f_x)"
     ], 
     "language": "python", 
     "outputs": [], 
     "prompt_number": 141
    }, 
    {
     "cell_type": "code", 
     "collapsed": false, 
     "input": [
      "plot(f_x)", 
      "plot(y)"
     ], 
     "language": "python", 
     "outputs": [
      {
       "output_type": "pyout", 
       "prompt_number": 142, 
       "text": [
        "[&lt;matplotlib.lines.Line2D at 0xa3601d0&gt;]"
       ]
      }, 
      {
       "output_type": "display_data", 
       "png": "[encoded data removed]"
      }
     ], 
     "prompt_number": 142
    }, 
    {
     "cell_type": "markdown", 
     "source": [
      "For now, we will seek the solution which minimizes the residual sum of squares  $RSS =  \\sum_{i=1}^{N}(y_i - f(x_i))^2$: "
     ]
    }, 
    {
     "cell_type": "code", 
     "collapsed": false, 
     "input": [
      "RSS = np.sum((y-f_x)**2)"
     ], 
     "language": "python", 
     "outputs": [], 
     "prompt_number": 143
    }, 
    {
     "cell_type": "markdown", 
     "source": [
      "$RSS$ is a function of $\\beta$ and we want to optimize it with respect to a choice of the elements of $\\beta$. That is, we want to find a minimum of $RSS$ with respect to $\\beta$. ", 
      "Mathematically speaking, we want to find a value of $\\beta$ for which the first derivative of $RSS$ with respect to $\\beta$ is 0 and the second derivative (if no unique first derivative can be found) is negative. ", 
      "", 
      "To find the derivative, we re-write $RSS$ in the following way: ", 
      "", 
      "$RSS(\\beta) = (\\bf{y} - X\\beta)^T (\\bf{y} - X\\beta) $"
     ]
    }, 
    {
     "cell_type": "markdown", 
     "source": [
      "XXX How do you find the derivative of a vector? And its transpose?  ", 
      "", 
      "$\\Rightarrow \\frac{\\partial RSS}{\\partial\\beta} = \\frac{-2(-X \\beta + y)^2 X}{(-X \\beta + y)}$", 
      "", 
      "Reordering and simplyfing, we obtain: ", 
      "", 
      "$\\Rightarrow  \\frac{\\partial RSS}{\\partial\\beta} = -2X(y - X\\beta)$", 
      "", 
      "Written again in matrix notation, we obtain: ", 
      "", 
      "$ \\frac{\\partial RSS}{\\partial\\beta}  = -2 \\bf{X}^T (\\bf{y} - \\bf{X}\\beta)$", 
      "", 
      "(this is the top of equation 3.4 in THF) ", 
      "", 
      "Let's continue to obtain the second derivative as well: ", 
      "Rearranging this slightly", 
      "", 
      "$ \\Rightarrow \\frac{\\partial ^2 RSS}{\\partial\\beta \\partial \\beta ^T} = \\frac{2(y -X\\beta)^2 X X^T}{(y-X\\beta)^2}$", 
      "", 
      "And then simplifying: ", 
      "", 
      "$ \\Rightarrow \\frac{\\partial ^2 RSS}{\\partial\\beta \\partial \\beta ^T}  = 2 \\bf{X}\\bf{X}^T $ ", 
      "", 
      "Which is the bottom of equation 3.4 in THF", 
      "", 
      "Setting the first derivative to 0 and dividing both sides by 2, we obtain", 
      "", 
      "$\\bf{X}^T (y-\\bf{X}\\beta) = 0$", 
      "", 
      "$\\bf{X}^T y - \\bf{X}^T \\bf{X} \\beta = 0$", 
      "", 
      "$\\Rightarrow \\bf{X}^T y = \\bf{X}^T \\bf{X} \\beta$ ", 
      "", 
      "If $\\bf{X}$ is full rank, that $\\bf{X}^T\\bf{X}$ is [positive definite](http://en.wikipedia.org/wiki/Positive-definite_matrix) and it can be inverted. "
     ]
    }, 
    {
     "cell_type": "markdown", 
     "source": [
      "To determine that, we compute the SVD of the matrix X: ", 
      "", 
      "The singular value decomposition of the matrix $\\bf{X}$ is defined as: ", 
      "", 
      "$\\bf{X} = \\bf{UDV}^T$ ", 
      "", 
      "Where $\\bf{U}$ and $\\bf{V}$ are $N x p$ and $p x p$:  "
     ]
    }, 
    {
     "cell_type": "code", 
     "collapsed": true, 
     "input": [
      "U,D,V = la.svd(X, full_matrices = False) # We call full_matrices = False, to conform with the conventions in the text"
     ], 
     "language": "python", 
     "outputs": [], 
     "prompt_number": 144
    }, 
    {
     "cell_type": "markdown", 
     "source": [
      "We convert D to a diagnonal matrix, with the eigen-values of the matrix $\\bf{X}$ on the main diagonal (V contains the corresponding eigen-vectors)."
     ]
    }, 
    {
     "cell_type": "code", 
     "collapsed": false, 
     "input": [
      "D = np.diag(D)", 
      "matshow(D)"
     ], 
     "language": "python", 
     "outputs": [
      {
       "output_type": "pyout", 
       "prompt_number": 145, 
       "text": [
        "&lt;matplotlib.image.AxesImage at 0xa601030&gt;"
       ]
      }, 
      {
       "output_type": "display_data", 
       "png": "[encoded data removed]"
      }
     ], 
     "prompt_number": 145
    }, 
    {
     "cell_type": "markdown", 
     "source": [
      "Importantly, for the matrix to be full rank, the eigenvalues should all be non-zero.", 
      "", 
      "If this is the case, we can obtain the unique solution:  ", 
      "", 
      "$ \\Rightarrow  \\hat{\\beta} = (\\bf{X}^T \\bf{X})^{-1}\\bf{X}^T\\bf{y}$,  ", 
      "", 
      "equation 3.6 in THF", 
      "", 
      "Let's make that a function, which we can reuse: "
     ]
    }, 
    {
     "cell_type": "code", 
     "collapsed": false, 
     "input": [
      "def olsmatrix(X):", 
      "    \"\"\"", 
      "    The matrix which solves the OLS regression problem for full-rank X", 
      "    \"\"\"", 
      "    return (np.matrix(X).T * np.matrix(X)).getI() * np.matrix(X.T)", 
      "    ", 
      "beta_hat = olsmatrix(X) * np.matrix(y).T"
     ], 
     "language": "python", 
     "outputs": [], 
     "prompt_number": 150
    }, 
    {
     "cell_type": "markdown", 
     "source": [
      "We display the estimate, $\\hat{\\beta}$ against the actual parameters, $\\beta$: "
     ]
    }, 
    {
     "cell_type": "code", 
     "collapsed": false, 
     "input": [
      "plot(beta, beta_hat, 'o')", 
      "plt.xlabel('Real parameter value')", 
      "plt.ylabel('Estimate parameter value')"
     ], 
     "language": "python", 
     "outputs": [
      {
       "output_type": "pyout", 
       "prompt_number": 151, 
       "text": [
        "&lt;matplotlib.text.Text at 0xa62b070&gt;"
       ]
      }, 
      {
       "output_type": "display_data", 
       "png": "[encoded data removed]"
      }
     ], 
     "prompt_number": 151
    }, 
    {
     "cell_type": "markdown", 
     "source": [
      "The so called \"hat matrix\", or $ H $ is the matrix which defines the transformation from $\\bf{X}$ to the estimate of $y$, $\\hat{y}$, so it's the matrix that \"puts the hat\" on $y$"
     ]
    }, 
    {
     "cell_type": "code", 
     "collapsed": false, 
     "input": [
      "H = np.matrix(X) * (np.matrix(X.T) * np.matrix(X)).getI() * np.matrix(X.T)", 
      "y_hat = H * np.matrix(y).T "
     ], 
     "language": "python", 
     "outputs": [], 
     "prompt_number": 153
    }, 
    {
     "cell_type": "code", 
     "collapsed": false, 
     "input": [
      "plot(y, y_hat, 'o')", 
      "plt.xlabel('The original output') ", 
      "plt.ylabel('Linear estimate of the output')"
     ], 
     "language": "python", 
     "outputs": [
      {
       "output_type": "pyout", 
       "prompt_number": 154, 
       "text": [
        "&lt;matplotlib.text.Text at 0xa710d70&gt;"
       ]
      }, 
      {
       "output_type": "display_data", 
       "png": "[encoded data removed]"
      }
     ], 
     "prompt_number": 154
    }, 
    {
     "cell_type": "markdown", 
     "source": [
      "The variance of the \\hat{beta}, is derived from the variance/covariance matrix:", 
      "", 
      "$Var(\\hat{\\beta}) = (\\bf{X}^T \\bf{X})^{-1} \\sigma^2$", 
      "", 
      "And can be estimated as follows: ", 
      "", 
      "$\\hat{\\sigma} = \\frac{1}{N - p - 1}\\sum_{i=1}^{N}(y_i-\\hat{y}_i) ^ 2$"
     ]
    }, 
    {
     "cell_type": "code", 
     "collapsed": true, 
     "input": [
      "sigma_hat = 1.0/(N-p-1) * np.sum(np.power(y-y_hat, 2))"
     ], 
     "language": "python", 
     "outputs": [], 
     "prompt_number": 155
    }, 
    {
     "cell_type": "code", 
     "collapsed": false, 
     "input": [
      "sigma_hat"
     ], 
     "language": "python", 
     "outputs": [
      {
       "output_type": "pyout", 
       "prompt_number": 156, 
       "text": [
        "52644.363961594063"
       ]
      }
     ], 
     "prompt_number": 156
    }, 
    {
     "cell_type": "markdown", 
     "source": [
      "And $\\hat{\\beta}$ is distributed as a multivariate normal distribution: ", 
      "", 
      "$\\hat{\\beta} \\sim \\mathcal{N}(\\beta, (\\bf{X}^T \\bf{X})^{-1} \\sigma^2)$"
     ]
    }, 
    {
     "cell_type": "code", 
     "collapsed": true, 
     "input": [
      "covar_matrix = (np.matrix(X).T * np.matrix(X)).getI()"
     ], 
     "language": "python", 
     "outputs": [], 
     "prompt_number": 157
    }, 
    {
     "cell_type": "code", 
     "collapsed": false, 
     "input": [
      "matshow(covar_matrix)"
     ], 
     "language": "python", 
     "outputs": [
      {
       "output_type": "pyout", 
       "prompt_number": 158, 
       "text": [
        "&lt;matplotlib.image.AxesImage at 0xb08f7b0&gt;"
       ]
      }, 
      {
       "output_type": "display_data", 
       "png": "[encoded data removed]"
      }
     ], 
     "prompt_number": 158
    }, 
    {
     "cell_type": "markdown", 
     "source": [
      "To test the hypothesis that a particular coefficient: $\\beta_j = 0$, we can calculate a Z score as follows: ", 
      "", 
      "$z_j = \\frac{\\beta_j}{\\hat{\\sigma}\\sqrt{v_j}}$, ", 
      "", 
      "Where $v_j$ is the $jth$ diagonal element in the variance covariance matrix"
     ]
    }, 
    {
     "cell_type": "code", 
     "collapsed": true, 
     "input": [
      "z = []", 
      "for j in range(len(beta)): ", 
      "    z.append(beta_hat[j]/(sigma_hat * np.sqrt(covar_matrix[j,j])))", 
      "z = np.array(z).squeeze()"
     ], 
     "language": "python", 
     "outputs": [], 
     "prompt_number": 159
    }, 
    {
     "cell_type": "markdown", 
     "source": [
      "## Ridge regression ", 
      "", 
      "This form of regression regularize the regression by optimizing a variant of RSS: ", 
      "", 
      "$\\hat{\\beta}^{ridge} = argmin_{\\beta} [(sum_{i=1}^{N} (y_i - \\beta_0 - \\sum_{j=1}^{p} x_{ij}\\beta_j)^2 + \\lambda \\sum_{j=1}^{p}{\\beta^2}]$", 
      "", 
      "Where $\\lambda \\geq 0$ is a complexity parameter that controls the amount of \"shrinkage\" of the model, by controlling the sum of squares of the parameter values. ", 
      "", 
      "Written in matrix form, this comes out to: ", 
      "", 
      "XXX Need to prove the following: ", 
      "", 
      "$\\hat{\\beta}^{ridge} = (\\bf{X}^T\\bf{X} + \\lambda \\bf{I})^{-1} \\bf{X}^T y$"
     ]
    }, 
    {
     "cell_type": "code", 
     "collapsed": true, 
     "input": [
      "def ridge_regression_matrix(X, l):", 
      "    return (np.matrix(X).T * np.matrix(X) + l * np.eye(X.shape[-1])).getI() * np.matrix(X.T)", 
      "    "
     ], 
     "language": "python", 
     "outputs": [], 
     "prompt_number": 160
    }, 
    {
     "cell_type": "code", 
     "collapsed": false, 
     "input": [
      "beta_ridge = ridge_regression_matrix(X,1)* np.matrix(y).T "
     ], 
     "language": "python", 
     "outputs": [], 
     "prompt_number": 162
    }, 
    {
     "cell_type": "code", 
     "collapsed": false, 
     "input": [
      "plot(beta, beta_ridge, 'o')"
     ], 
     "language": "python", 
     "outputs": [
      {
       "output_type": "pyout", 
       "prompt_number": 163, 
       "text": [
        "[&lt;matplotlib.lines.Line2D at 0xb18dff0&gt;]"
       ]
      }, 
      {
       "output_type": "display_data", 
       "png": "[encoded data removed]"
      }
     ], 
     "prompt_number": 163
    }, 
    {
     "cell_type": "markdown", 
     "source": [
      "Using our SVD from before, for the OLS solution: ", 
      "", 
      "$X\\hat{\\beta} = \\bf{X}(\\bf{X}^T\\bf{X})^{-1} \\bf{X}^T y = \\bf{UU}^T y $"
     ]
    }, 
    {
     "cell_type": "code", 
     "collapsed": false, 
     "input": [
      "x_beta_hat = np.matrix(U) * np.matrix(U).T * np.matrix(y).T"
     ], 
     "language": "python", 
     "outputs": [], 
     "prompt_number": 165
    }, 
    {
     "cell_type": "markdown", 
     "source": [
      "Where $\\bf{U}^T y$ are the coordinates of $y$ with respect to the orthonormal basis $\\bf{U}$"
     ]
    }, 
    {
     "cell_type": "code", 
     "collapsed": false, 
     "input": [
      "y_coords_in_U = np.matrix(U).T * np.matrix(y).T"
     ], 
     "language": "python", 
     "outputs": [], 
     "prompt_number": 168
    }, 
    {
     "cell_type": "code", 
     "collapsed": false, 
     "input": [
      "matshow(np.matrix(U).T * np.matrix(U)) # Shows that U is an orthonormal basis set"
     ], 
     "language": "python", 
     "outputs": [
      {
       "output_type": "pyout", 
       "prompt_number": 169, 
       "text": [
        "&lt;matplotlib.image.AxesImage at 0xb31af30&gt;"
       ]
      }, 
      {
       "output_type": "display_data", 
       "png": "[encoded data removed]"
      }
     ], 
     "prompt_number": 169
    }, 
    {
     "cell_type": "markdown", 
     "source": [
      "Another way to rewrite the ridge regression, using the results of the SVD: ", 
      "", 
      "$\\bf{X} \\hat{\\beta} ^ {ridge} = U D (D^2 + \\lambda I)^{-1} D U^T y $ "
     ]
    }, 
    {
     "cell_type": "code", 
     "collapsed": false, 
     "input": [
      "D_sq = (np.matrix(D) * np.matrix(D))", 
      "lamb = 0.1", 
      "# XXX Need to break apart the following a little bit: ", 
      "x_b_ridge_svd = np.matrix(U) * np.matrix(D) * (D_sq + lamb * np.matrix(np.eye(D_sq.shape[0])).getI())* np.matrix(D) * np.matrix(U).T * np.matrix(y).T "
     ], 
     "language": "python", 
     "outputs": [], 
     "prompt_number": 176
    }, 
    {
     "cell_type": "code", 
     "collapsed": false, 
     "input": [
      "plot(x_b_ridge_svd.shape)"
     ], 
     "language": "python", 
     "outputs": [
      {
       "output_type": "pyout", 
       "prompt_number": 179, 
       "text": [
        "[&lt;matplotlib.lines.Line2D at 0xb2068f0&gt;]"
       ]
      }, 
      {
       "output_type": "display_data", 
       "png": "[encoded data removed]"
      }
     ], 
     "prompt_number": 179
    }
   ]
  }
 ]
}