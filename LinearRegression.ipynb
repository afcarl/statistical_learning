{
 "metadata": {
  "name": "LinearRegression"
 }, 
 "nbformat": 2, 
 "worksheets": [
  {
   "cells": [
    {
     "cell_type": "markdown", 
     "source": [
      "#Linear Methods for Regression#", 
      "", 
      "##Based on chapter 3 of \"The elements of statistical learning\" ##", 
      "", 
      "Our model of the world is that: $f(x) = \\beta_0 + \\sum_{j=1}^{p}{x_j \\beta_j} + \\epsilon$ with $\\epsilon \\sim \\mathcal{N}(0, \\sigma)$"
     ]
    }, 
    {
     "cell_type": "code", 
     "collapsed": true, 
     "input": [
      "def f(x, beta, sigma=0.1):", 
      "    \"\"\" ", 
      "    The linear model", 
      "    \"\"\" ", 
      "    epsilon = sigma * np.random.randn()", 
      "    return beta[0] + np.sum(beta[0:] * x) + epsilon"
     ], 
     "language": "python", 
     "outputs": [], 
     "prompt_number": 5
    }, 
    {
     "cell_type": "markdown", 
     "source": [
      "Let's set up the problem with 10 input variables, repeated 20 times: "
     ]
    }, 
    {
     "cell_type": "code", 
     "collapsed": true, 
     "input": [
      "p = 10 # Number of variables ", 
      "N = 50 # Number of repetitions ", 
      "", 
      "# Random parameters to be estimated: ", 
      "beta = np.random.rand(p)"
     ], 
     "language": "python", 
     "outputs": [], 
     "prompt_number": 6
    }, 
    {
     "cell_type": "markdown", 
     "source": [
      "The solution which minimizes the residual sum of squares  $RSS =  \\sum_{i=1}^{N}(y_i - f(x_i))^2$, is given by the following. ", 
      "Let $\\bf{y}$ be the output of the model and $\\bf{X}$ denote the input (also known as the \"design matrix\"):"
     ]
    }, 
    {
     "cell_type": "code", 
     "collapsed": true, 
     "input": [
      "X = np.random.randn(N, p)"
     ], 
     "language": "python", 
     "outputs": [], 
     "prompt_number": 7
    }, 
    {
     "cell_type": "code", 
     "collapsed": true, 
     "input": [
      "y =np.matrix(np.array([f(X[i], beta, 0.1) for i  in xrange(N)])).T"
     ], 
     "language": "python", 
     "outputs": [], 
     "prompt_number": 8
    }, 
    {
     "cell_type": "markdown", 
     "source": [
      "$RSS$ is a function of $\\beta$ and we want to optimize it with respect to a choice of the elements of $\\beta$. That is, we want to find a minimum of $RSS$ with respect to $\\beta$. ", 
      "Mathematically speaking, we want to find a value of $\\beta$ for which the first derivative of $RSS$ with respect to $\\beta$ is 0 and the second derivative (if no unique first derivative can be found) is negative. ", 
      "", 
      "To find the derivative, we re-write $RSS$ in the following way: ", 
      "", 
      "$RSS(\\beta) = (\\bf{y} - \\bf{X}\\beta)^2$", 
      "", 
      "[Note that HTF write this as: $ RSS(\\beta) = (\\bf{y} - X\\beta)^T (\\bf{y} - X\\beta) $, but it is not clear to me why this is helpful]", 
      "", 
      "We use sympy to obtain the derivatives: "
     ]
    }, 
    {
     "cell_type": "code", 
     "collapsed": false, 
     "input": [
      "from sympy import symbols, diff, mpmath", 
      "y_sym,X_sym,beta_sym = symbols('y,X,beta',commutative=False)", 
      "", 
      "diff(np.power((y_sym - X_sym * beta_sym),2), beta_sym)"
     ], 
     "language": "python", 
     "outputs": [
      {
       "output_type": "pyout", 
       "prompt_number": 60, 
       "text": [
        "-2*(-X*beta + y)**2*X/(-X*beta + y)"
       ]
      }
     ], 
     "prompt_number": 60
    }, 
    {
     "cell_type": "markdown", 
     "source": [
      "$\\Rightarrow \\frac{\\partial RSS}{\\partial\\beta} = \\frac{-2(-X \\beta + y)^2 X}{(-X \\beta + y)}$", 
      "", 
      "Reordering and simplyfing, we obtain: ", 
      "", 
      "$\\Rightarrow  \\frac{\\partial RSS}{\\partial\\beta} = -2X(y - X\\beta)$", 
      "", 
      "Written again in matrix notation, we obtain: ", 
      "", 
      "$ \\frac{\\partial RSS}{\\partial\\beta}  = -2 \\bf{X}^T (\\bf{y} - \\bf{X}\\beta)$", 
      "", 
      "(this is the top of equation 3.4 in THF) ", 
      "", 
      "Let's continue to obtain the second derivative as well: "
     ]
    }, 
    {
     "cell_type": "code", 
     "collapsed": false, 
     "input": [
      "diff(np.power((y_sym - X_sym * beta_sym),2), beta_sym, 2)"
     ], 
     "language": "python", 
     "outputs": [
      {
       "output_type": "pyout", 
       "prompt_number": 61, 
       "text": [
        "2*(-X*beta + y)**2*X*X/((-X*beta + y)*(-X*beta + y))"
       ]
      }
     ], 
     "prompt_number": 61
    }, 
    {
     "cell_type": "markdown", 
     "source": [
      "Rearranging this slightly", 
      "", 
      "$ \\Rightarrow \\frac{\\partial ^2 RSS}{\\partial\\beta \\partial \\beta ^T} = \\frac{2(y -X\\beta)^2 X X^T}{(y-X\\beta)^2}$", 
      "", 
      "And then simplifying: ", 
      "", 
      "$ \\Rightarrow \\frac{\\partial ^2 RSS}{\\partial\\beta \\partial \\beta ^T}  = 2 \\bf{X}\\bf{X}^T $ ", 
      "", 
      "Which is the bottom of equation 3.4 in THF", 
      "", 
      "Setting the first derivative to 0 and dividing both sides by 2, we obtain", 
      "", 
      "$\\bf{X}^T (y-\\bf{X}\\beta) = 0$", 
      "", 
      "$\\bf{X}^T y - \\bf{X}^T \\bf{X} \\beta = 0$", 
      "", 
      "$\\Rightarrow \\bf{X}^T y = \\bf{X}^T \\bf{X} \\beta$ ", 
      "", 
      "Let's assume that $\\bf{X}$ is full rank. That means that $\\bf{X}^T\\bf{X}$ is [positive definite](http://en.wikipedia.org/wiki/Positive-definite_matrix) and it can be inverted. We obtain the unique solution:  ", 
      "", 
      "$ \\Rightarrow  \\hat{\\beta} = (\\bf{X}^T \\bf{X})^{-1}\\bf{X}^T\\bf{y}$,  ", 
      "", 
      "equation 3.6 in THF", 
      "", 
      "Let's make that a function, which we can reuse: "
     ]
    }, 
    {
     "cell_type": "code", 
     "collapsed": true, 
     "input": [
      "def olsmatrix(X):", 
      "    \"\"\"", 
      "    The matrix which solves the OLS regression problem for full-rank X", 
      "    \"\"\"", 
      "    return (np.matrix(X).T * np.matrix(X)).getI() * np.matrix(X.T)", 
      "    ", 
      "beta_hat = olsmatrix(X) * y"
     ], 
     "language": "python", 
     "outputs": [], 
     "prompt_number": 62
    }, 
    {
     "cell_type": "markdown", 
     "source": [
      "We display the estimate, $\\hat{\\beta}$ against the actual parameters, $\\beta$: "
     ]
    }, 
    {
     "cell_type": "code", 
     "collapsed": false, 
     "input": [
      "plot(beta, beta_hat, 'o')", 
      "plt.xlabel('Real parameter value')", 
      "plt.ylabel('Estimate parameter value')"
     ], 
     "language": "python", 
     "outputs": [
      {
       "output_type": "pyout", 
       "prompt_number": 63, 
       "text": [
        "&lt;matplotlib.text.Text at 0x83665d0&gt;"
       ]
      }, 
      {
       "output_type": "display_data", 
       "png": "[encoded data removed]"
      }
     ], 
     "prompt_number": 63
    }, 
    {
     "cell_type": "markdown", 
     "source": [
      "The so called \"hat matrix\", or $ H $ is the matrix which defines the transformation from $\\bf{X}$ to the estimate of $y$, $\\hat{y}$, so it's the matrix that \"puts the hat\" on $y$"
     ]
    }, 
    {
     "cell_type": "code", 
     "collapsed": true, 
     "input": [
      "H = np.matrix(X) * (np.matrix(X.T) * np.matrix(X)).getI() * np.matrix(X.T)", 
      "y_hat = H * y "
     ], 
     "language": "python", 
     "outputs": [], 
     "prompt_number": 11
    }, 
    {
     "cell_type": "code", 
     "collapsed": false, 
     "input": [
      "plot(y, y_hat, 'o')", 
      "plt.xlabel('The original output') ", 
      "plt.ylabel('Linear estimate of the output')"
     ], 
     "language": "python", 
     "outputs": [
      {
       "output_type": "pyout", 
       "prompt_number": 12, 
       "text": [
        "&lt;matplotlib.text.Text at 0x75050d0&gt;"
       ]
      }, 
      {
       "output_type": "display_data", 
       "png": "[encoded data removed]"
      }
     ], 
     "prompt_number": 12
    }, 
    {
     "cell_type": "markdown", 
     "source": [
      "The variance of the \\hat{beta}, is derived from the variance/covariance matrix:", 
      "", 
      "$Var(\\hat{\\beta}) = (\\bf{X}^T \\bf{X})^{-1} \\sigma^2$", 
      "", 
      "And can be estimated as follows: ", 
      "", 
      "$\\hat{\\sigma} = \\frac{1}{N - p - 1}\\sum_{i=1}^{N}(y_i-\\hat{y}_i) ^ 2$"
     ]
    }, 
    {
     "cell_type": "code", 
     "collapsed": true, 
     "input": [
      "sigma_hat = 1.0/(N-p-1) * np.sum(np.power(y-y_hat, 2))"
     ], 
     "language": "python", 
     "outputs": [], 
     "prompt_number": 13
    }, 
    {
     "cell_type": "code", 
     "collapsed": false, 
     "input": [
      "sigma_hat"
     ], 
     "language": "python", 
     "outputs": [
      {
       "output_type": "pyout", 
       "prompt_number": 14, 
       "text": [
        "0.0096442486228474414"
       ]
      }
     ], 
     "prompt_number": 14
    }, 
    {
     "cell_type": "markdown", 
     "source": [
      "And $\\hat{\\beta}$ is distributed as a multivariate normal distribution: ", 
      "", 
      "$\\hat{\\beta} \\sim \\mathcal{N}(\\beta, (\\bf{X}^T \\bf{X})^{-1} \\sigma^2)$"
     ]
    }, 
    {
     "cell_type": "code", 
     "collapsed": true, 
     "input": [
      "covar_matrix = (np.matrix(X).T * np.matrix(X)).getI()"
     ], 
     "language": "python", 
     "outputs": [], 
     "prompt_number": 15
    }, 
    {
     "cell_type": "code", 
     "collapsed": false, 
     "input": [
      "matshow(covar_matrix)"
     ], 
     "language": "python", 
     "outputs": [
      {
       "output_type": "pyout", 
       "prompt_number": 16, 
       "text": [
        "&lt;matplotlib.image.AxesImage at 0x1bbb030&gt;"
       ]
      }, 
      {
       "output_type": "display_data", 
       "png": "[encoded data removed]"
      }
     ], 
     "prompt_number": 16
    }, 
    {
     "cell_type": "markdown", 
     "source": [
      "To test the hypothesis that a particular coefficient: $\\beta_j = 0$, we can calculate a Z score as follows: ", 
      "", 
      "$z_j = \\frac{\\beta_j}{\\hat{\\sigma}\\sqrt{v_j}}$, ", 
      "", 
      "Where $v_j$ is the $jth$ diagonal element in the variance covariance matrix"
     ]
    }, 
    {
     "cell_type": "code", 
     "collapsed": true, 
     "input": [
      "z = []", 
      "for j in range(len(beta)): ", 
      "    z.append(beta_hat[j]/(sigma_hat * np.sqrt(covar_matrix[j,j])))", 
      "z = np.array(z).squeeze()"
     ], 
     "language": "python", 
     "outputs": [], 
     "prompt_number": 17
    }, 
    {
     "cell_type": "markdown", 
     "source": [
      "## Ridge regression ", 
      "", 
      "This form of regression regularize the regression by optimizing a variant of RSS: ", 
      "", 
      "$\\hat{\\beta}^{ridge} = argmin_{\\beta} [(sum_{i=1}^{N} (y_i - \\beta_0 - \\sum_{j=1}^{p} x_{ij}\\beta_j)^2 + \\lambda \\sum_{j=1}^{p}{\\beta^2}]$", 
      "", 
      "Where $\\lambda \\geq 0$ is a complexity parameter that controls the amount of \"shrinkage\" of the model, by controlling the sum of squares of the parameter values. ", 
      "", 
      "Written in matrix form, this comes out to: ", 
      "", 
      "XXX Need to prove the following: ", 
      "", 
      "$\\hat{\\beta}^{ridge} = (\\bf{X}^T\\bf{X} + \\lambda \\bf{I})^{-1} \\bf{X}^T y$"
     ]
    }, 
    {
     "cell_type": "code", 
     "collapsed": true, 
     "input": [
      "def ridge_regression_matrix(X, l):", 
      "    return (np.matrix(X).T * np.matrix(X) + l * np.eye(X.shape[-1])).getI() * np.matrix(X.T)", 
      "    "
     ], 
     "language": "python", 
     "outputs": [], 
     "prompt_number": 18
    }, 
    {
     "cell_type": "code", 
     "collapsed": true, 
     "input": [
      "beta_ridge = ridge_regression_matrix(X,1)* y "
     ], 
     "language": "python", 
     "outputs": [], 
     "prompt_number": 19
    }, 
    {
     "cell_type": "code", 
     "collapsed": false, 
     "input": [
      "plot(beta, beta_ridge, 'o')"
     ], 
     "language": "python", 
     "outputs": [
      {
       "output_type": "pyout", 
       "prompt_number": 20, 
       "text": [
        "[&lt;matplotlib.lines.Line2D at 0x769db50&gt;]"
       ]
      }, 
      {
       "output_type": "display_data", 
       "png": "[encoded data removed]"
      }
     ], 
     "prompt_number": 20
    }, 
    {
     "cell_type": "markdown", 
     "source": [
      "##SVD", 
      "", 
      "The singular value decomposition of the matrix $\\bf{X}$ is defined as: ", 
      "", 
      "$\\bf{X} = \\bf{UDV}^T$ ", 
      "", 
      "Where $\\bf{U}$ and $\\bf{V}$ are $N x p$ and $p x p$:  "
     ]
    }, 
    {
     "cell_type": "code", 
     "collapsed": true, 
     "input": [
      " import scipy.linalg as la"
     ], 
     "language": "python", 
     "outputs": [], 
     "prompt_number": 21
    }, 
    {
     "cell_type": "code", 
     "collapsed": true, 
     "input": [
      "U,D,V = la.svd(X, full_matrices = False) # We call full_matrices = False, to conform with the conventions in the text"
     ], 
     "language": "python", 
     "outputs": [], 
     "prompt_number": 22
    }, 
    {
     "cell_type": "code", 
     "collapsed": false, 
     "input": [
      "print \"The shape of U is %s and of V is: %s\"%(U.shape, V.shape) # Just making sure"
     ], 
     "language": "python", 
     "outputs": [
      {
       "output_type": "stream", 
       "stream": "stdout", 
       "text": [
        "The shape of U is (50, 10) and of V is: (10, 10)"
       ]
      }
     ], 
     "prompt_number": 23
    }, 
    {
     "cell_type": "code", 
     "collapsed": true, 
     "input": [
      "D = np.diag(D)"
     ], 
     "language": "python", 
     "outputs": [], 
     "prompt_number": 24
    }, 
    {
     "cell_type": "code", 
     "collapsed": false, 
     "input": [
      "matshow(D)"
     ], 
     "language": "python", 
     "outputs": [
      {
       "output_type": "pyout", 
       "prompt_number": 25, 
       "text": [
        "&lt;matplotlib.image.AxesImage at 0x7a66db0&gt;"
       ]
      }, 
      {
       "output_type": "display_data", 
       "png": "[encoded data removed]"
      }
     ], 
     "prompt_number": 25
    }, 
    {
     "cell_type": "markdown", 
     "source": [
      "For the OLS solution: ", 
      "", 
      "$X\\hat{\\beta} = \\bf{X}(\\bf{X}^T\\bf{X})^{-1} \\bf{X}^T y = \\bf{UU}^T y $"
     ]
    }, 
    {
     "cell_type": "code", 
     "collapsed": true, 
     "input": [
      "x_beta_hat = np.matrix(U) * np.matrix(U).T * y"
     ], 
     "language": "python", 
     "outputs": [], 
     "prompt_number": 26
    }, 
    {
     "cell_type": "markdown", 
     "source": [
      "Where $\\bf{U}^T y$ are the coordinates of $y$ with respect to the orthonormal basis $\\bf{U}$"
     ]
    }, 
    {
     "cell_type": "code", 
     "collapsed": true, 
     "input": [
      "y_coords_in_U = np.matrix(U).T * y"
     ], 
     "language": "python", 
     "outputs": [], 
     "prompt_number": 27
    }, 
    {
     "cell_type": "code", 
     "collapsed": false, 
     "input": [
      "matshow(np.matrix(U).T * np.matrix(U)) # Shows that U is an orthonormal basis set"
     ], 
     "language": "python", 
     "outputs": [
      {
       "output_type": "pyout", 
       "prompt_number": 28, 
       "text": [
        "&lt;matplotlib.image.AxesImage at 0x7737930&gt;"
       ]
      }, 
      {
       "output_type": "display_data", 
       "png": "[encoded data removed]"
      }
     ], 
     "prompt_number": 28
    }, 
    {
     "cell_type": "markdown", 
     "source": [
      "Another way to rewrite the ridge regression, using the results of the SVD: ", 
      "", 
      "$\\bf{X} \\hat{\\beta} ^ {ridge} = U D (D^2 + \\lambda I)^{-1} D U^T y $ "
     ]
    }, 
    {
     "cell_type": "code", 
     "collapsed": false, 
     "input": [
      "x_b_ridge_svd = np.matrix(U) * np.matrix(D) (np.matrix(D) * np.matrix(D) + lamb * np.matrix(np.eye("
     ], 
     "language": "python", 
     "outputs": [
      {
       "ename": "SyntaxError", 
       "evalue": "unexpected EOF while parsing (<ipython-input-29-cb76048e0860>, line 1)", 
       "output_type": "pyerr", 
       "traceback": [
        "<span class=\"ansicyan\">  File </span><span class=\"ansigreen\">&quot;&lt;ipython-input-29-cb76048e0860&gt;&quot;</span><span class=\"ansicyan\">, line </span><span class=\"ansigreen\">1</span>\n<span class=\"ansired\">    x_b_ridge_svd = np.matrix(U) * np.matrix(D) (np.matrix(D) * np.matrix(D) + lamb * np.matrix(np.eye(</span>\n                                                                                                       ^\n<span class=\"ansired\">SyntaxError</span><span class=\"ansired\">:</span> unexpected EOF while parsing\n"
       ]
      }
     ], 
     "prompt_number": 29
    }, 
    {
     "cell_type": "code", 
     "collapsed": false, 
     "input": [
      "np.matrix(D) * np.matrix(D)"
     ], 
     "language": "python", 
     "outputs": [
      {
       "output_type": "pyout", 
       "prompt_number": 30, 
       "text": [
        "matrix([[ 93.30866781,   0.        ,   0.        ,   0.        ,", 
        "           0.        ,   0.        ,   0.        ,   0.        ,", 
        "           0.        ,   0.        ],", 
        "        [  0.        ,  75.04673202,   0.        ,   0.        ,", 
        "           0.        ,   0.        ,   0.        ,   0.        ,", 
        "           0.        ,   0.        ],", 
        "        [  0.        ,   0.        ,  69.97997999,   0.        ,", 
        "           0.        ,   0.        ,   0.        ,   0.        ,", 
        "           0.        ,   0.        ],", 
        "        [  0.        ,   0.        ,   0.        ,  61.84459735,", 
        "           0.        ,   0.        ,   0.        ,   0.        ,", 
        "           0.        ,   0.        ],", 
        "        [  0.        ,   0.        ,   0.        ,   0.        ,", 
        "          50.98284818,   0.        ,   0.        ,   0.        ,", 
        "           0.        ,   0.        ],", 
        "        [  0.        ,   0.        ,   0.        ,   0.        ,", 
        "           0.        ,  46.61951521,   0.        ,   0.        ,", 
        "           0.        ,   0.        ],", 
        "        [  0.        ,   0.        ,   0.        ,   0.        ,", 
        "           0.        ,   0.        ,  33.05260827,   0.        ,", 
        "           0.        ,   0.        ],", 
        "        [  0.        ,   0.        ,   0.        ,   0.        ,", 
        "           0.        ,   0.        ,   0.        ,  29.9030999 ,", 
        "           0.        ,   0.        ],", 
        "        [  0.        ,   0.        ,   0.        ,   0.        ,", 
        "           0.        ,   0.        ,   0.        ,   0.        ,", 
        "          27.89548941,   0.        ],", 
        "        [  0.        ,   0.        ,   0.        ,   0.        ,", 
        "           0.        ,   0.        ,   0.        ,   0.        ,", 
        "           0.        ,  23.8165848 ]])"
       ]
      }
     ], 
     "prompt_number": 30
    }
   ]
  }
 ]
}